{
 "cells": [
  {
   "cell_type": "code",
   "execution_count": 1,
   "metadata": {},
   "outputs": [],
   "source": [
    "%matplotlib inline\n",
    "import matplotlib.pyplot as plt\n",
    "import numpy as np\n",
    "from scipy.stats import norm"
   ]
  },
  {
   "cell_type": "code",
   "execution_count": 2,
   "metadata": {},
   "outputs": [
    {
     "name": "stderr",
     "output_type": "stream",
     "text": [
      "/home/baptiste/anaconda3/lib/python3.7/site-packages/matplotlib/figure.py:445: UserWarning: Matplotlib is currently using module://ipykernel.pylab.backend_inline, which is a non-GUI backend, so cannot show the figure.\n",
      "  % get_backend())\n"
     ]
    },
    {
     "data": {
      "image/png": "[encoded data removed]",
      "text/plain": [
       "<Figure size 432x288 with 1 Axes>"
      ]
     },
     "metadata": {
      "needs_background": "light"
     },
     "output_type": "display_data"
    }
   ],
   "source": [
    "fig, ax = plt.subplots()\n",
    "x = np.linspace(norm.ppf(0.01),\n",
    "                norm.ppf(0.99), 100)\n",
    "\n",
    "ax.plot(x, norm.pdf(x),\n",
    "       'r-', lw=5, alpha=0.6)\n",
    "\n",
    "ax.plot(x, np.full(len(x), 0.2),\n",
    "       'b-', lw=1)\n",
    "\n",
    "fig.show()"
   ]
  },
  {
   "cell_type": "code",
   "execution_count": 30,
   "metadata": {},
   "outputs": [
    {
     "data": {
      "text/html": [
       "<div>\n",
       "<style scoped>\n",
       "    .dataframe tbody tr th:only-of-type {\n",
       "        vertical-align: middle;\n",
       "    }\n",
       "\n",
       "    .dataframe tbody tr th {\n",
       "        vertical-align: top;\n",
       "    }\n",
       "\n",
       "    .dataframe thead th {\n",
       "        text-align: right;\n",
       "    }\n",
       "</style>\n",
       "<table border=\"1\" class=\"dataframe\">\n",
       "  <thead>\n",
       "    <tr style=\"text-align: right;\">\n",
       "      <th></th>\n",
       "      <th>Accession</th>\n",
       "      <th>Description</th>\n",
       "      <th>Gene Symbol</th>\n",
       "      <th>Corrected Abundance ratio (1.53)</th>\n",
       "      <th>Log2 Corrected Abundance Ratio</th>\n",
       "      <th>Abundance Ratio Adj. P-Value: (127. T3 Tc WT) / (126. T0 WT)</th>\n",
       "      <th>-LOG10 Adj.P-val</th>\n",
       "    </tr>\n",
       "  </thead>\n",
       "  <tbody>\n",
       "    <tr>\n",
       "      <th>0</th>\n",
       "      <td>P75936</td>\n",
       "      <td>Basal-body rod modification protein FlgD OS=Es...</td>\n",
       "      <td>flgD</td>\n",
       "      <td>0.075816993</td>\n",
       "      <td>-3.721335</td>\n",
       "      <td>0.000055</td>\n",
       "      <td>4.260067</td>\n",
       "    </tr>\n",
       "    <tr>\n",
       "      <th>1</th>\n",
       "      <td>P76231</td>\n",
       "      <td>Uncharacterized protein YeaC OS=Escherichia co...</td>\n",
       "      <td>yeaC</td>\n",
       "      <td>0.092810458</td>\n",
       "      <td>-3.429569</td>\n",
       "      <td>0.000351</td>\n",
       "      <td>3.454627</td>\n",
       "    </tr>\n",
       "    <tr>\n",
       "      <th>2</th>\n",
       "      <td>P0A8S9</td>\n",
       "      <td>Flagellar transcriptional regulator FlhD OS=Es...</td>\n",
       "      <td>flhD</td>\n",
       "      <td>0.102614379</td>\n",
       "      <td>-3.284695</td>\n",
       "      <td>0.000027</td>\n",
       "      <td>4.571899</td>\n",
       "    </tr>\n",
       "    <tr>\n",
       "      <th>4</th>\n",
       "      <td>P05706</td>\n",
       "      <td>PTS system glucitol/sorbitol-specific EIIA com...</td>\n",
       "      <td>srlB</td>\n",
       "      <td>0.108496732</td>\n",
       "      <td>-3.204277</td>\n",
       "      <td>0.019963</td>\n",
       "      <td>1.699768</td>\n",
       "    </tr>\n",
       "    <tr>\n",
       "      <th>5</th>\n",
       "      <td>P29744</td>\n",
       "      <td>Flagellar hook-associated protein 3 OS=Escheri...</td>\n",
       "      <td>flgL</td>\n",
       "      <td>0.124183007</td>\n",
       "      <td>-3.009460</td>\n",
       "      <td>0.036746</td>\n",
       "      <td>1.434787</td>\n",
       "    </tr>\n",
       "  </tbody>\n",
       "</table>\n",
       "</div>"
      ],
      "text/plain": [
       "  Accession                                        Description Gene Symbol  \\\n",
       "0    P75936  Basal-body rod modification protein FlgD OS=Es...        flgD   \n",
       "1    P76231  Uncharacterized protein YeaC OS=Escherichia co...        yeaC   \n",
       "2    P0A8S9  Flagellar transcriptional regulator FlhD OS=Es...        flhD   \n",
       "4    P05706  PTS system glucitol/sorbitol-specific EIIA com...        srlB   \n",
       "5    P29744  Flagellar hook-associated protein 3 OS=Escheri...        flgL   \n",
       "\n",
       "  Corrected Abundance ratio (1.53)  Log2 Corrected Abundance Ratio  \\\n",
       "0                      0.075816993                       -3.721335   \n",
       "1                      0.092810458                       -3.429569   \n",
       "2                      0.102614379                       -3.284695   \n",
       "4                      0.108496732                       -3.204277   \n",
       "5                      0.124183007                       -3.009460   \n",
       "\n",
       "   Abundance Ratio Adj. P-Value: (127. T3 Tc WT) / (126. T0 WT)  \\\n",
       "0                                           0.000055              \n",
       "1                                           0.000351              \n",
       "2                                           0.000027              \n",
       "4                                           0.019963              \n",
       "5                                           0.036746              \n",
       "\n",
       "   -LOG10 Adj.P-val  \n",
       "0          4.260067  \n",
       "1          3.454627  \n",
       "2          4.571899  \n",
       "4          1.699768  \n",
       "5          1.434787  "
      ]
     },
     "execution_count": 30,
     "metadata": {},
     "output_type": "execute_result"
    }
   ],
   "source": [
    "import pandas as pd\n",
    "df = pd.read_csv(\"data/TCL_wt1.tsv\",sep='\\t')\n",
    "\n",
    "df=df.dropna()\n",
    "df['Log2 Corrected Abundance Ratio']=df['Log2 Corrected Abundance Ratio'].astype(float)\n",
    "df['Abundance Ratio Adj. P-Value: (127. T3 Tc WT) / (126. T0 WT)']=df['Abundance Ratio Adj. P-Value: (127. T3 Tc WT) / (126. T0 WT)'].astype(float)\n",
    "df[\"-LOG10 Adj.P-val\"]=df[\"-LOG10 Adj.P-val\"].astype(float)\n",
    "df.head()"
   ]
  },
  {
   "cell_type": "code",
   "execution_count": 4,
   "metadata": {},
   "outputs": [],
   "source": [
    "log2_ab= df[\"Log2 Corrected Abundance Ratio\"].astype(float)\n",
    "mean_series=np.mean(log2_ab)\n",
    "var_series=(log2_ab.shape[0])/(log2_ab.shape[0]-1)*np.var(log2_ab)\n",
    "dfnorm=s = np.random.normal(mean_series, np.sqrt(var_series))"
   ]
  },
  {
   "cell_type": "code",
   "execution_count": 11,
   "metadata": {},
   "outputs": [
    {
     "name": "stderr",
     "output_type": "stream",
     "text": [
      "/home/baptiste/anaconda3/lib/python3.7/site-packages/matplotlib/figure.py:445: UserWarning: Matplotlib is currently using module://ipykernel.pylab.backend_inline, which is a non-GUI backend, so cannot show the figure.\n",
      "  % get_backend())\n"
     ]
    },
    {
     "data": {
      "image/png": "[encoded data removed]",
      "text/plain": [
       "<Figure size 432x288 with 1 Axes>"
      ]
     },
     "metadata": {
      "needs_background": "light"
     },
     "output_type": "display_data"
    }
   ],
   "source": [
    "fig,ax=plt.subplots()\n",
    "count, bins,ignored = plt.hist(log2_ab,100,density=True)\n",
    "plt.plot(bins, 1/(np.sqrt(var_series) * np.sqrt(2 * np.pi)) *\n",
    "         np.exp( - (bins - mean_series)**2 / (2 * var_series) ),\n",
    "         linewidth=2, color='r')\n",
    "font = {'family': 'serif',\n",
    "        'color':  'darkred',\n",
    "        'weight': 'normal',\n",
    "        'size': 16,\n",
    "        }\n",
    "plt.title(\"Histogram of the log2 abundance ratio\")\n",
    "plt.xlabel(\"Log2 abundance ratio\")\n",
    "plt.ylabel(\"Count\")\n",
    "\n",
    "fig.show()\n",
    "fig.savefig(\"histogram_log2.png\")"
   ]
  },
  {
   "cell_type": "code",
   "execution_count": 12,
   "metadata": {},
   "outputs": [
    {
     "data": {
      "text/plain": [
       "(-0.6386262156443276, 0.47075934623043414)"
      ]
     },
     "execution_count": 12,
     "metadata": {},
     "output_type": "execute_result"
    }
   ],
   "source": [
    "mean_series,np.sqrt(var_series)"
   ]
  },
  {
   "cell_type": "code",
   "execution_count": 28,
   "metadata": {},
   "outputs": [
    {
     "data": {
      "image/png": "[encoded data removed]",
      "text/plain": [
       "<Figure size 432x288 with 1 Axes>"
      ]
     },
     "metadata": {
      "needs_background": "light"
     },
     "output_type": "display_data"
    }
   ],
   "source": [
    "log10_pv=df[[\"-LOG10 Adj.P-val\"]].astype(float)\n",
    "ax=plt.scatter(log2_ab.values,log10_pv)\n",
    "plt.axhline(y=3, xmin=0, xmax=10,color='r')\n",
    "plt.axvline(x=mean_series+np.sqrt(var_series), ymin=0, ymax=10,color='r')\n",
    "plt.xlabel(\"Log2(p-value)\")\n",
    "plt.ylabel(\"-Log10(p-value)\")\n",
    "plt.title(\"Volcano plot \")\n",
    "plt.savefig(\"volcano.png\")"
   ]
  },
  {
   "cell_type": "code",
   "execution_count": 40,
   "metadata": {},
   "outputs": [
    {
     "data": {
      "text/plain": [
       "array(['P0A8V6', 'P0A9Q1', 'P02358', 'P0ACF8', 'P62399', 'P0A905',\n",
       "       'P76506', 'P13036', 'P10384', 'P06971', 'P0A910', 'P06996',\n",
       "       'P76344', 'P02931'], dtype=object)"
      ]
     },
     "execution_count": 40,
     "metadata": {},
     "output_type": "execute_result"
    }
   ],
   "source": [
    "sub1=df.loc[df[\"Log2 Corrected Abundance Ratio\"]>=mean_series+np.sqrt(var_series)]\n",
    "sub2=sub1.loc[sub1[\"-LOG10 Adj.P-val\"]>=3]\n",
    "sub2[\"Accession\"].values"
   ]
  },
  {
   "cell_type": "code",
   "execution_count": null,
   "metadata": {},
   "outputs": [],
   "source": []
  }
 ],
 "metadata": {
  "kernelspec": {
   "display_name": "Python 3",
   "language": "python",
   "name": "python3"
  },
  "language_info": {
   "codemirror_mode": {
    "name": "ipython",
    "version": 3
   },
   "file_extension": ".py",
   "mimetype": "text/x-python",
   "name": "python",
   "nbconvert_exporter": "python",
   "pygments_lexer": "ipython3",
   "version": "3.7.3"
  }
 },
 "nbformat": 4,
 "nbformat_minor": 2
}
